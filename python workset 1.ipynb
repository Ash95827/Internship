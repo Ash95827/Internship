{
 "cells": [
  {
   "cell_type": "markdown",
   "id": "b3a63cfa",
   "metadata": {},
   "source": [
    "#                                 PYTHON WORK_SET_1"
   ]
  },
  {
   "cell_type": "code",
   "execution_count": 23,
   "id": "874e623a",
   "metadata": {},
   "outputs": [
    {
     "name": "stdout",
     "output_type": "stream",
     "text": [
      "Enter the first number:-45\n",
      "Enter the second number:-7\n",
      "a= 45 b= 7 The remainder obtained is:- 3\n"
     ]
    }
   ],
   "source": [
    "#Ques1)Which of the following operators is used to calculate remainder in a division?\n",
    "#Ans)C  i.e % \n",
    "a=int(input(\"Enter the first number:-\"))\n",
    "b=int(input(\"Enter the second number:-\"))\n",
    "c=a%b\n",
    "print(\"a=\",a,\"b=\",b,\"The remainder obtained is:-\",c)"
   ]
  },
  {
   "cell_type": "code",
   "execution_count": 24,
   "id": "f8b11a9a",
   "metadata": {},
   "outputs": [
    {
     "name": "stdout",
     "output_type": "stream",
     "text": [
      "0\n"
     ]
    }
   ],
   "source": [
    "#Ques2) In python 2//3 is equal to?\n",
    "#Ans)B  i.e 0\n",
    "\n",
    "a=2\n",
    "b=3\n",
    "c=2//3\n",
    "print(c)"
   ]
  },
  {
   "cell_type": "code",
   "execution_count": 25,
   "id": "8bc906fa",
   "metadata": {},
   "outputs": [
    {
     "name": "stdout",
     "output_type": "stream",
     "text": [
      "24\n"
     ]
    }
   ],
   "source": [
    "#Ques3)In python, 6<<2 is equal to?\n",
    "#Ans)C  i.e 24 \n",
    "\n",
    "a=6\n",
    "b=2\n",
    "print(a<<b)"
   ]
  },
  {
   "cell_type": "code",
   "execution_count": 26,
   "id": "fc26246e",
   "metadata": {},
   "outputs": [
    {
     "name": "stdout",
     "output_type": "stream",
     "text": [
      "2\n"
     ]
    }
   ],
   "source": [
    "#Ques4)In python, 6&2 will give which of the following as output?\n",
    "#Ans)A  i.e 2\n",
    "\n",
    "a=6\n",
    "b=2\n",
    "c=a&b\n",
    "print(c)"
   ]
  },
  {
   "cell_type": "code",
   "execution_count": 27,
   "id": "74a536d9",
   "metadata": {},
   "outputs": [
    {
     "name": "stdout",
     "output_type": "stream",
     "text": [
      "6\n"
     ]
    }
   ],
   "source": [
    "#Ques5) In python, 6|2 will give which of the following as output?\n",
    "#Ans) D i.e 6\n",
    "\n",
    "a=6\n",
    "b=2\n",
    "c=6|2\n",
    "print(c)"
   ]
  },
  {
   "cell_type": "code",
   "execution_count": 28,
   "id": "da597773",
   "metadata": {},
   "outputs": [
    {
     "name": "stdout",
     "output_type": "stream",
     "text": [
      "Something went wrong\n",
      "The try...except block is finished\n"
     ]
    }
   ],
   "source": [
    "#Ques6)6. What does the finally keyword denotes in python?\n",
    "#A) It is used to mark the end of the code\n",
    "#B) It encloses the lines of code which will be executed if any error occurs while executing the lines of code in \n",
    "#the try block.\n",
    "#C) the finally block will be executed no matter if the try block raises an error or not.\n",
    "#D) None of the above\n",
    "\n",
    "#Ans)C\n",
    "\n",
    "try:\n",
    "  x > 3\n",
    "except:\n",
    "  print(\"Something went wrong\")\n",
    "else:\n",
    "  print(\"Nothing went wrong\")\n",
    "finally:\n",
    "  print(\"The try...except block is finished\")"
   ]
  },
  {
   "cell_type": "code",
   "execution_count": 29,
   "id": "a69b2635",
   "metadata": {},
   "outputs": [
    {
     "name": "stdout",
     "output_type": "stream",
     "text": [
      "1.1111111111111112\n"
     ]
    }
   ],
   "source": [
    "#Ques7)What does raise keyword is used for in python?\n",
    "#Ans)A i.e to raise an exception\n",
    "\n",
    "a = 10\n",
    "b = 9\n",
    "try:\n",
    "    # condition for checking for negative values\n",
    "    if a < 0 or b < 0:\n",
    "        # raising exception using raise keyword\n",
    "        raise ZeroDivisionError\n",
    "    print(a/b)\n",
    "except ZeroDivisionError:\n",
    "    print(\"Please enter valid integer value\")\n",
    "    \n",
    "    "
   ]
  },
  {
   "cell_type": "code",
   "execution_count": null,
   "id": "5cfd00e5",
   "metadata": {},
   "outputs": [],
   "source": [
    "#Ques8) Which of the following is a common use case of yield keyword in python?\n",
    "#Ans)C  i.e in defining the generators"
   ]
  },
  {
   "cell_type": "code",
   "execution_count": null,
   "id": "a2898896",
   "metadata": {},
   "outputs": [],
   "source": [
    "#Ques9) Which of the following are the valid variable names?\n",
    "#Ans)A & C  i.e _abc and abc2"
   ]
  },
  {
   "cell_type": "code",
   "execution_count": null,
   "id": "10e57ea4",
   "metadata": {},
   "outputs": [],
   "source": [
    "#Ques10). Which of the following are the keywords in python?\n",
    "#Ans) A & B  i.e yield and raise"
   ]
  },
  {
   "cell_type": "markdown",
   "id": "5e75b253",
   "metadata": {},
   "source": [
    "Ques11)Write the python program to find the factorial of the number?"
   ]
  },
  {
   "cell_type": "code",
   "execution_count": 3,
   "id": "8b0f1b53",
   "metadata": {},
   "outputs": [
    {
     "name": "stdout",
     "output_type": "stream",
     "text": [
      "Enter a number you want to find the factorial:- -5\n",
      "Factorial does not exist for negative numbers\n"
     ]
    }
   ],
   "source": [
    "num = int(input(\"Enter a number you want to find the factorial:- \"))\n",
    "\n",
    "factorial = 1\n",
    "\n",
    "if num < 0:\n",
    "   print(\"Factorial does not exist for negative numbers\")\n",
    "elif num == 0:\n",
    "   print(\"The factorial of 0 is 1\")\n",
    "else:\n",
    "   for i in range(1,num + 1):\n",
    "       factorial = factorial*i\n",
    "   print(\"The factorial of\",num,\"is\",factorial)"
   ]
  },
  {
   "cell_type": "markdown",
   "id": "976dff95",
   "metadata": {},
   "source": [
    "Ques12)Write the python program to find whether the number is prime or composite?"
   ]
  },
  {
   "cell_type": "code",
   "execution_count": 8,
   "id": "3706cb77",
   "metadata": {},
   "outputs": [
    {
     "name": "stdout",
     "output_type": "stream",
     "text": [
      "Enter the number:-1\n",
      "The Number Is Neither Prime Nor Composite.\n"
     ]
    }
   ],
   "source": [
    "num=int(input(\"Enter the number:-\"))        #composite number= more than two factors and prime numbers= only two factors:-and 0,1 lies in neither category\n",
    "\n",
    "count=0\n",
    "i=1\n",
    "while i<=num:\n",
    "    if num%i==0:\n",
    "        count=count+1\n",
    "    i=i+1\n",
    "    \n",
    "if count==2:\n",
    "    print(\"The Number Is A Prime Number.\")\n",
    "elif count>2:\n",
    "    print(\"The Number Is A Composite Number.\")\n",
    "else:\n",
    "    print(\"The Number Is Neither Prime Nor Composite.\")\n",
    "\n"
   ]
  },
  {
   "cell_type": "markdown",
   "id": "31d936ed",
   "metadata": {},
   "source": [
    "Ques13)13. Write a python program to check whether a given string is palindrome or not?"
   ]
  },
  {
   "cell_type": "code",
   "execution_count": 9,
   "id": "8de3aff9",
   "metadata": {},
   "outputs": [],
   "source": [
    "def Ispalindrome(s):\n",
    "    if list(s.lower())==list(reversed(s.lower())):\n",
    "        print(\"It Is A Palindrome.\")\n",
    "    else:\n",
    "        print(\"It Is Not A Palindrome.\")\n",
    "  "
   ]
  },
  {
   "cell_type": "code",
   "execution_count": 10,
   "id": "3db10b17",
   "metadata": {},
   "outputs": [
    {
     "name": "stdout",
     "output_type": "stream",
     "text": [
      "It Is A Palindrome.\n"
     ]
    }
   ],
   "source": [
    "Ispalindrome('dad')"
   ]
  },
  {
   "cell_type": "code",
   "execution_count": 12,
   "id": "57272ff5",
   "metadata": {},
   "outputs": [
    {
     "name": "stdout",
     "output_type": "stream",
     "text": [
      "It Is A Palindrome.\n"
     ]
    }
   ],
   "source": [
    "Ispalindrome('aibohphobia')"
   ]
  },
  {
   "cell_type": "code",
   "execution_count": 13,
   "id": "717ee1ac",
   "metadata": {},
   "outputs": [
    {
     "name": "stdout",
     "output_type": "stream",
     "text": [
      "It Is A Palindrome.\n"
     ]
    }
   ],
   "source": [
    "Ispalindrome('step on no pets')"
   ]
  },
  {
   "cell_type": "markdown",
   "id": "56bd97ef",
   "metadata": {},
   "source": [
    "Ques14) Write a Python program to get the third side of right-angled triangle from two given sides?"
   ]
  },
  {
   "cell_type": "code",
   "execution_count": 21,
   "id": "8eb9ad6c",
   "metadata": {},
   "outputs": [],
   "source": [
    "def pythagorus(base,perpendicular,hypotenuse):\n",
    "    if base==str(\"x\"):\n",
    "        return(\"base=\"+str(((hypotenuse**2)-(perpendicular**2))**0.5))\n",
    "    elif perpendicular==str(\"x\"):\n",
    "        return(\"perpendicular=\"+str(((hypotenuse**2)-(base**2))**0.5))\n",
    "    elif hypotenuse==str(\"x\"):\n",
    "        return(\"hypotenuse=\"+str(((base**2)+(perpendicular**2))**0.5))\n",
    "    else:\n",
    "        return(\"you know the answer\")\n",
    "        \n",
    "        "
   ]
  },
  {
   "cell_type": "code",
   "execution_count": 22,
   "id": "e66df83b",
   "metadata": {},
   "outputs": [
    {
     "data": {
      "text/plain": [
       "'hypotenuse=5.0'"
      ]
     },
     "execution_count": 22,
     "metadata": {},
     "output_type": "execute_result"
    }
   ],
   "source": [
    "pythagorus(3,4,'x')"
   ]
  },
  {
   "cell_type": "markdown",
   "id": "0bed4cff",
   "metadata": {},
   "source": [
    "Ques15. Write a python program to print the frequency of each of the characters present in a given string?"
   ]
  },
  {
   "cell_type": "code",
   "execution_count": 9,
   "id": "f9104150",
   "metadata": {},
   "outputs": [
    {
     "name": "stdout",
     "output_type": "stream",
     "text": [
      "Count of all characters in GeeksforGeeks is :\n",
      " {'G': 2, 'e': 4, 'k': 2, 's': 2, 'f': 1, 'o': 1, 'r': 1}\n"
     ]
    }
   ],
   "source": [
    "# Python3 code to demonstrate \n",
    "# each occurrence frequency using \n",
    "# naive method \n",
    "  \n",
    "# initializing string \n",
    "test_str = \"GeeksforGeeks\"\n",
    "  \n",
    "# using naive method to get count \n",
    "# of each element in string \n",
    "all_freq = {}\n",
    "  \n",
    "for i in test_str:\n",
    "    if i in all_freq:\n",
    "        all_freq[i] += 1\n",
    "    else:\n",
    "        all_freq[i] = 1\n",
    "  \n",
    "# printing result \n",
    "print (\"Count of all characters in GeeksforGeeks is :\\n \"\n",
    "                                        +  str(all_freq))"
   ]
  },
  {
   "cell_type": "code",
   "execution_count": null,
   "id": "12fe0c56",
   "metadata": {},
   "outputs": [],
   "source": []
  },
  {
   "cell_type": "code",
   "execution_count": null,
   "id": "55eeec53",
   "metadata": {},
   "outputs": [],
   "source": []
  }
 ],
 "metadata": {
  "kernelspec": {
   "display_name": "Python 3",
   "language": "python",
   "name": "python3"
  },
  "language_info": {
   "codemirror_mode": {
    "name": "ipython",
    "version": 3
   },
   "file_extension": ".py",
   "mimetype": "text/x-python",
   "name": "python",
   "nbconvert_exporter": "python",
   "pygments_lexer": "ipython3",
   "version": "3.8.8"
  }
 },
 "nbformat": 4,
 "nbformat_minor": 5
}
